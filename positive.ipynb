{
 "cells": [
  {
   "cell_type": "code",
   "execution_count": null,
   "id": "61f6f366-372f-4cb6-856a-d32187ab2ba4",
   "metadata": {},
   "outputs": [
    {
     "name": "stdin",
     "output_type": "stream",
     "text": [
      "Input list1 (comma-separated numbers):  12,-7,5,64,-14\n"
     ]
    },
    {
     "name": "stdout",
     "output_type": "stream",
     "text": [
      "Input: [12, -7, 5, 64, -14]\n",
      "Output: [12, 5, 64]\n"
     ]
    }
   ],
   "source": [
    "def print_positive_numbers(input_list):\n",
    "    positive_numbers = [num for num in input_list if num > 0]\n",
    "    print(\"output:\", positive_numbers)\n",
    "\n",
    "\n",
    "list1 = [int(x) for x in input(\"input list1 (comma-separated numbers): \").split(',')]\n",
    "print(\"input:\", list1)\n",
    "print_positive_numbers(list1)\n",
    "\n",
    "list2 = [int(x) for x in input(\"input list2 (comma-separated numbers): \").split(',')]\n",
    "print(\"input:\", list2)\n",
    "print_positive_numbers(list2)\n"
   ]
  }
 ],
 "metadata": {
  "kernelspec": {
   "display_name": "Python 3 (ipykernel)",
   "language": "python",
   "name": "python3"
  },
  "language_info": {
   "codemirror_mode": {
    "name": "ipython",
    "version": 3
   },
   "file_extension": ".py",
   "mimetype": "text/x-python",
   "name": "python",
   "nbconvert_exporter": "python",
   "pygments_lexer": "ipython3",
   "version": "3.11.4"
  }
 },
 "nbformat": 4,
 "nbformat_minor": 5
}
